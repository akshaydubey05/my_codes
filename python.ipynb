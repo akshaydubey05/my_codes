{
 "cells": [
  {
   "cell_type": "code",
   "execution_count": 1,
   "metadata": {},
   "outputs": [
    {
     "name": "stdout",
     "output_type": "stream",
     "text": [
      "23\n",
      "no. of y are :  3\n",
      "jhonny jhonny yes mummy\n"
     ]
    }
   ],
   "source": [
    "s=\"jhonny jhonny yes pappa\"\n",
    "print(len(s))\n",
    "a=0\n",
    "for i in s:\n",
    "    if(i=='y'):\n",
    "        a+=1\n",
    "print(\"no. of y are : \",a)\n",
    "s=s.replace(\"pappa\",\"mummy\")\n",
    "print(s)\n"
   ]
  },
  {
   "cell_type": "code",
   "execution_count": 8,
   "metadata": {},
   "outputs": [
    {
     "name": "stdout",
     "output_type": "stream",
     "text": [
      "YES\n"
     ]
    }
   ],
   "source": [
    "s=\"abcdcba\"\n",
    "a=1\n",
    "for i in range(0,int(len(s)/2)):\n",
    "    if(s[i]!=s[len(s)-i-1]):\n",
    "        print(\"NO\")\n",
    "        a=2\n",
    "        break\n",
    "if(a==1):\n",
    "    print(\"YES\")"
   ]
  },
  {
   "cell_type": "code",
   "execution_count": 9,
   "metadata": {},
   "outputs": [
    {
     "name": "stdout",
     "output_type": "stream",
     "text": [
      "YES\n"
     ]
    }
   ],
   "source": [
    "s='aeiou'\n",
    "v=1\n",
    "for i in s:\n",
    "    if(i=='a' or i=='e' or i=='i' or i=='o' or i=='u'):\n",
    "        continue\n",
    "    else:\n",
    "        v=2\n",
    "        break\n",
    "if(v==1):\n",
    "    print(\"YES\")\n",
    "else:\n",
    "    print(\"NO\")"
   ]
  },
  {
   "cell_type": "code",
   "execution_count": null,
   "metadata": {},
   "outputs": [],
   "source": []
  },
  {
   "cell_type": "code",
   "execution_count": null,
   "metadata": {},
   "outputs": [],
   "source": []
  }
 ],
 "metadata": {
  "kernelspec": {
   "display_name": "Python 3",
   "language": "python",
   "name": "python3"
  },
  "language_info": {
   "codemirror_mode": {
    "name": "ipython",
    "version": 3
   },
   "file_extension": ".py",
   "mimetype": "text/x-python",
   "name": "python",
   "nbconvert_exporter": "python",
   "pygments_lexer": "ipython3",
   "version": "3.11.5"
  },
  "orig_nbformat": 4
 },
 "nbformat": 4,
 "nbformat_minor": 2
}
